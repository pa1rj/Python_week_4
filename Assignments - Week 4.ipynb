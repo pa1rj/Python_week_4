{
 "cells": [
  {
   "cell_type": "markdown",
   "metadata": {},
   "source": [
    "### Topics: Conditional Statements, Loops, Errors and Exception Hanlding, Functions."
   ]
  },
  {
   "cell_type": "code",
   "execution_count": null,
   "metadata": {},
   "outputs": [],
   "source": []
  },
  {
   "cell_type": "code",
   "execution_count": null,
   "metadata": {},
   "outputs": [],
   "source": []
  },
  {
   "cell_type": "markdown",
   "metadata": {},
   "source": [
    "#### 1. Write a Python Program that takes user's age as input and informs him one of the following based on his age.\n",
    "\n",
    "    - The user yet to get the Voter ID card\n",
    "    - The user is eligible to vote\n",
    "    - The user is not eligible yet to vote\n",
    "    - The user is a senior citizen"
   ]
  },
  {
   "cell_type": "code",
   "execution_count": 2,
   "metadata": {},
   "outputs": [
    {
     "name": "stdout",
     "output_type": "stream",
     "text": [
      "Enter your age :21\n",
      "Enter your name:Pavan\n",
      "Do you have a valid voter id?: Select 'Yes' or 'No': Yes\n",
      "Pavan is eligible to vote\n"
     ]
    }
   ],
   "source": [
    "age = float(input(\"Enter your age :\"))\n",
    "name = input(\"Enter your name:\")\n",
    "\n",
    "if age >= 18 and age <60:\n",
    "    vd = input(\"Do you have a valid voter id?: Select 'Yes' or 'No': \")\n",
    "    if vd == 'No':\n",
    "        print(f'{name} is yet to get the voter ID')    \n",
    "    elif vd == 'Yes':    \n",
    "        print(f'{name} is eligible to vote')\n",
    "    else:\n",
    "        print(f'{name} Please enter a valid input')\n",
    "elif age < 18 :\n",
    "    print(f'{name} is not eligible to vote')\n",
    "elif age >= 60:\n",
    "    print(f'{name} is a senior citizen')\n",
    "else:\n",
    "    print(f'{name} is yet to get the voter ID')"
   ]
  },
  {
   "cell_type": "code",
   "execution_count": null,
   "metadata": {},
   "outputs": [],
   "source": []
  },
  {
   "cell_type": "code",
   "execution_count": null,
   "metadata": {},
   "outputs": [],
   "source": []
  },
  {
   "cell_type": "code",
   "execution_count": null,
   "metadata": {},
   "outputs": [],
   "source": []
  },
  {
   "cell_type": "code",
   "execution_count": null,
   "metadata": {},
   "outputs": [],
   "source": []
  },
  {
   "cell_type": "markdown",
   "metadata": {},
   "source": [
    "#### 2. Write a Python Program that return all the numbers between 1 and 50 that are divisible by '3' and '7'."
   ]
  },
  {
   "cell_type": "code",
   "execution_count": 1,
   "metadata": {},
   "outputs": [
    {
     "name": "stdout",
     "output_type": "stream",
     "text": [
      "0\n",
      "21\n",
      "42\n"
     ]
    }
   ],
   "source": [
    "for i in range(0,50):\n",
    "   if((i%3==0) & (i%7==0)):\n",
    "      return(i)"
   ]
  },
  {
   "cell_type": "code",
   "execution_count": null,
   "metadata": {},
   "outputs": [],
   "source": []
  },
  {
   "cell_type": "code",
   "execution_count": null,
   "metadata": {},
   "outputs": [],
   "source": []
  },
  {
   "cell_type": "code",
   "execution_count": null,
   "metadata": {},
   "outputs": [],
   "source": []
  },
  {
   "cell_type": "code",
   "execution_count": null,
   "metadata": {},
   "outputs": [],
   "source": []
  },
  {
   "cell_type": "code",
   "execution_count": null,
   "metadata": {},
   "outputs": [],
   "source": []
  },
  {
   "cell_type": "markdown",
   "metadata": {},
   "source": [
    "#### 3. Write a Python Program to create a list of numbers from 1 to 50 and calculate the sum of all the elements of the list."
   ]
  },
  {
   "cell_type": "code",
   "execution_count": 3,
   "metadata": {},
   "outputs": [
    {
     "name": "stdout",
     "output_type": "stream",
     "text": [
      "1225\n"
     ]
    }
   ],
   "source": [
    "list1 = list(range(50))\n",
    "total = 0\n",
    "for i in range(0,len(list1)):\n",
    "    total = total+list1[i]\n",
    "    \n",
    "print (total)"
   ]
  },
  {
   "cell_type": "code",
   "execution_count": null,
   "metadata": {},
   "outputs": [],
   "source": []
  },
  {
   "cell_type": "code",
   "execution_count": null,
   "metadata": {},
   "outputs": [],
   "source": []
  },
  {
   "cell_type": "code",
   "execution_count": null,
   "metadata": {},
   "outputs": [],
   "source": []
  },
  {
   "cell_type": "code",
   "execution_count": null,
   "metadata": {},
   "outputs": [],
   "source": []
  },
  {
   "cell_type": "code",
   "execution_count": null,
   "metadata": {},
   "outputs": [],
   "source": []
  },
  {
   "cell_type": "markdown",
   "metadata": {},
   "source": [
    "#### 4. Write a Python Program that prints the numbers from 1 to 50 and displays \" (number) is divisible by 3 and 5\" for the numbers which are divisible by 3 and 5."
   ]
  },
  {
   "cell_type": "code",
   "execution_count": 4,
   "metadata": {},
   "outputs": [
    {
     "name": "stdout",
     "output_type": "stream",
     "text": [
      "[0, 1, 2, 3, 4, 5, 6, 7, 8, 9, 10, 11, 12, 13, 14, 15, 16, 17, 18, 19, 20, 21, 22, 23, 24, 25, 26, 27, 28, 29, 30, 31, 32, 33, 34, 35, 36, 37, 38, 39, 40, 41, 42, 43, 44, 45, 46, 47, 48, 49]\n",
      "These are the numbers divisible by 3 and 5 0\n",
      "These are the numbers divisible by 3 and 5 15\n",
      "These are the numbers divisible by 3 and 5 30\n",
      "These are the numbers divisible by 3 and 5 45\n"
     ]
    }
   ],
   "source": [
    "list1 = list(range(50))\n",
    "print (list1)\n",
    "for i in list1:\n",
    "   if((i%3==0)and(i%5==0)):\n",
    "      print('These are the numbers divisible by 3 and 5'+ ' '+str (i))"
   ]
  },
  {
   "cell_type": "code",
   "execution_count": null,
   "metadata": {},
   "outputs": [],
   "source": []
  },
  {
   "cell_type": "code",
   "execution_count": null,
   "metadata": {},
   "outputs": [],
   "source": []
  },
  {
   "cell_type": "code",
   "execution_count": null,
   "metadata": {},
   "outputs": [],
   "source": []
  },
  {
   "cell_type": "code",
   "execution_count": null,
   "metadata": {},
   "outputs": [],
   "source": []
  },
  {
   "cell_type": "code",
   "execution_count": null,
   "metadata": {},
   "outputs": [],
   "source": []
  },
  {
   "cell_type": "code",
   "execution_count": null,
   "metadata": {},
   "outputs": [],
   "source": []
  },
  {
   "cell_type": "code",
   "execution_count": null,
   "metadata": {},
   "outputs": [],
   "source": []
  },
  {
   "cell_type": "markdown",
   "metadata": {},
   "source": [
    "#### 5. Write a Python Program that takes the input value of numerator and denominator, and handles Zero Division Error specifically\n",
    "    \n",
    "    Note: Other errors shall be handled in a general sense."
   ]
  },
  {
   "cell_type": "code",
   "execution_count": 6,
   "metadata": {},
   "outputs": [
    {
     "name": "stdout",
     "output_type": "stream",
     "text": [
      "Enter nr:4\n",
      "Enter dr:d\n",
      "Enter a valid input\n"
     ]
    }
   ],
   "source": [
    "try:\n",
    "\n",
    "    nr = float(input('Enter nr:'))\n",
    "    dr = float(input('Enter dr:'))\n",
    "    \n",
    "    print(nr / dr)\n",
    "    \n",
    "except ZeroDivisionError:\n",
    "    \n",
    "    print('Cannot divide anything by zero')\n",
    "    \n",
    "except:\n",
    "    print('Enter a valid input')"
   ]
  },
  {
   "cell_type": "code",
   "execution_count": null,
   "metadata": {},
   "outputs": [],
   "source": []
  },
  {
   "cell_type": "code",
   "execution_count": null,
   "metadata": {},
   "outputs": [],
   "source": []
  },
  {
   "cell_type": "code",
   "execution_count": null,
   "metadata": {},
   "outputs": [],
   "source": []
  },
  {
   "cell_type": "markdown",
   "metadata": {},
   "source": [
    "#### 6. Write a Python Program to convert a normal word to a secret word.\n",
    "\n",
    "The rules are as follows:\n",
    "\n",
    "1. If a word starts with a vowel, add 'yes' to the end.\n",
    "2. If not, put the first letter at the end, then add 'yes'\n",
    "\n",
    "Examples:\n",
    "\n",
    "1. win --> inwyes\n",
    "2. ant --> antyes"
   ]
  },
  {
   "cell_type": "code",
   "execution_count": 7,
   "metadata": {},
   "outputs": [
    {
     "name": "stdout",
     "output_type": "stream",
     "text": [
      "Enter the word:Giraffe\n",
      "iraffeGyes\n"
     ]
    }
   ],
   "source": [
    "cha = input('Enter the word:')\n",
    "vowels = ('a','e','i','o','u','A','E','I','O','U')\n",
    "if cha.startswith(vowels):\n",
    "    print(cha+'yes')\n",
    "else:\n",
    "    print(cha[1:]+cha[0]+'yes')\n",
    "        "
   ]
  },
  {
   "cell_type": "code",
   "execution_count": 8,
   "metadata": {},
   "outputs": [
    {
     "name": "stdout",
     "output_type": "stream",
     "text": [
      "Enter the word:alpha\n",
      "alphayes\n"
     ]
    }
   ],
   "source": [
    "cha = input('Enter the word:')\n",
    "vowels = ('a','e','i','o','u','A','E','I','O','U')\n",
    "if cha.startswith(vowels):\n",
    "    print(cha+'yes')\n",
    "else:\n",
    "    print(cha[1:]+cha[0]+'yes')\n",
    "        "
   ]
  },
  {
   "cell_type": "code",
   "execution_count": null,
   "metadata": {},
   "outputs": [],
   "source": []
  },
  {
   "cell_type": "code",
   "execution_count": null,
   "metadata": {},
   "outputs": [],
   "source": []
  },
  {
   "cell_type": "code",
   "execution_count": null,
   "metadata": {},
   "outputs": [],
   "source": []
  }
 ],
 "metadata": {
  "kernelspec": {
   "display_name": "Python 3",
   "language": "python",
   "name": "python3"
  },
  "language_info": {
   "codemirror_mode": {
    "name": "ipython",
    "version": 3
   },
   "file_extension": ".py",
   "mimetype": "text/x-python",
   "name": "python",
   "nbconvert_exporter": "python",
   "pygments_lexer": "ipython3",
   "version": "3.6.5"
  }
 },
 "nbformat": 4,
 "nbformat_minor": 4
}
